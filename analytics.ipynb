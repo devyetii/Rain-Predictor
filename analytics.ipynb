{
 "cells": [
  {
   "cell_type": "code",
   "execution_count": null,
   "metadata": {},
   "outputs": [],
   "source": [
    "import sys\n",
    "import csv\n",
    "import random\n",
    "import pandas"
   ]
  },
  {
   "cell_type": "code",
   "execution_count": null,
   "metadata": {},
   "outputs": [
    {
     "name": "stdout",
     "output_type": "stream",
     "text": [
      "Date\t1\n",
      "Location\t1\n",
      "MinTemp\t1\n",
      "MaxTemp\t1\n",
      "Rainfall\t1\n",
      "Evaporation\t1\n",
      "Sunshine\t1\n",
      "WindGustDir\t1\n",
      "WindGustSpeed\t1\n",
      "WindDir9am\t1\n",
      "WindDir3pm\t1\n",
      "WindSpeed9am\t1\n",
      "WindSpeed3pm\t1\n",
      "Humidity9am\t1\n",
      "Humidity3pm\t1\n",
      "Pressure9am\t1\n",
      "Pressure3pm\t1\n",
      "Cloud9am\t1\n",
      "Cloud3pm\t1\n",
      "Temp9am\t1\n",
      "Temp3pm\t1\n",
      "RainToday\t1\n",
      "RainTomorrow\t1\n"
     ]
    }
   ],
   "source": [
    "df = pandas.read_csv(\"weatherAUS.csv\")\n",
    "f = open(\"o.txt\",\"w\", encoding=\"utf-8\")\n",
    "for line in df:\n",
    "    line = line.strip()\n",
    "\n",
    "    # split the line into words; splits on any whitespace\n",
    "    words = line.split()\n",
    "\n",
    "    # output tuples (word, 1) in tab-delimited format\n",
    "    for word in words:\n",
    "        print (word+'\\t'+\"1\")\n",
    "        f.write(word+' '+\"1\\n\")\n",
    "f.close()"
   ]
  },
  {
   "cell_type": "code",
   "execution_count": null,
   "metadata": {},
   "outputs": [
    {
     "name": "stdout",
     "output_type": "stream",
     "text": [
      "Date 1\n",
      "Location 1\n",
      "MinTemp 1\n",
      "MaxTemp 1\n",
      "Rainfall 1\n",
      "Evaporation 1\n",
      "Sunshine 1\n",
      "WindGustDir 1\n",
      "WindGustSpeed 1\n",
      "WindDir9am 1\n",
      "WindDir3pm 1\n",
      "WindSpeed9am 1\n",
      "WindSpeed3pm 1\n",
      "Humidity9am 1\n",
      "Humidity3pm 1\n",
      "Pressure9am 1\n",
      "Pressure3pm 1\n",
      "Cloud9am 1\n",
      "Cloud3pm 1\n",
      "Temp9am 1\n",
      "Temp3pm 1\n",
      "RainToday 1\n",
      "RainTomorrow 1\n",
      "Date\t1\n",
      "Location\t1\n",
      "MinTemp\t1\n",
      "MaxTemp\t1\n",
      "Rainfall\t1\n",
      "Evaporation\t1\n",
      "Sunshine\t1\n",
      "WindGustDir\t1\n",
      "WindGustSpeed\t1\n",
      "WindDir9am\t1\n",
      "WindDir3pm\t1\n",
      "WindSpeed9am\t1\n",
      "WindSpeed3pm\t1\n",
      "Humidity9am\t1\n",
      "Humidity3pm\t1\n",
      "Pressure9am\t1\n",
      "Pressure3pm\t1\n",
      "Cloud9am\t1\n",
      "Cloud3pm\t1\n",
      "Temp9am\t1\n",
      "Temp3pm\t1\n",
      "RainToday\t1\n",
      "RainTomorrow\t1\n"
     ]
    }
   ],
   "source": [
    "# maps words to their counts\n",
    "word2count = {}\n",
    "ff = open(\"o.txt\",encoding=\"utf-8\")\n",
    "# input comes from STDIN\n",
    "for line in ff:\n",
    "    # remove leading and trailing whitespace\n",
    "    line = line.strip()\n",
    "    print(line)\n",
    "    # parse the input we got from mapper.py -- split on tabs\n",
    "    word, count = line.split(' ', 1)\n",
    "    # convert count (currently a string) to int\n",
    "    try:\n",
    "        count = int(count)\n",
    "    except ValueError:\n",
    "        continue\n",
    "\n",
    "    try:\n",
    "        word2count[word] = word2count[word]+count\n",
    "    except:\n",
    "        word2count[word] = count\n",
    "\n",
    "# write the tuples to stdout\n",
    "# Note: they are unsorted\n",
    "for word in word2count.keys():\n",
    "    print (word+'\\t'+str(word2count[word]) )"
   ]
  },
  {
   "cell_type": "code",
   "execution_count": null,
   "metadata": {},
   "outputs": [],
   "source": []
  }
 ],
 "metadata": {
  "interpreter": {
   "hash": "b3ba2566441a7c06988d0923437866b63cedc61552a5af99d1f4fb67d367b25f"
  },
  "kernelspec": {
   "display_name": "Python 3.8.8 ('base')",
   "language": "python",
   "name": "python3"
  },
  "language_info": {
   "codemirror_mode": {
    "name": "ipython",
    "version": 3
   },
   "file_extension": ".py",
   "mimetype": "text/x-python",
   "name": "python",
   "nbconvert_exporter": "python",
   "pygments_lexer": "ipython3",
   "version": "3.8.8"
  },
  "orig_nbformat": 4
 },
 "nbformat": 4,
 "nbformat_minor": 2
}
